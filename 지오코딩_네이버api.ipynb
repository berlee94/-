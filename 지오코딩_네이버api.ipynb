{
 "cells": [
  {
   "cell_type": "code",
   "execution_count": 1,
   "metadata": {},
   "outputs": [],
   "source": [
    "import numpy as np\n",
    "import pandas as pd\n",
    "from urllib.request import urlopen\n",
    "from urllib import parse\n",
    "from urllib.request import Request\n",
    "from urllib.error import HTTPError\n",
    "from bs4 import BeautifulSoup\n",
    "import json"
   ]
  },
  {
   "cell_type": "code",
   "execution_count": 2,
   "metadata": {},
   "outputs": [],
   "source": [
    "client_id = 'xwrtuzayst'\n",
    "client_pw = 'SrnihRZva6YkimN0lsDjOQKyUBl8fxSE2AyiEOSm'"
   ]
  },
  {
   "cell_type": "code",
   "execution_count": 24,
   "metadata": {},
   "outputs": [],
   "source": [
    "api_url = 'https://naveropenapi.apigw.ntruss.com/map-geocode/v2/geocode?query='"
   ]
  },
  {
   "cell_type": "code",
   "execution_count": 25,
   "metadata": {},
   "outputs": [],
   "source": [
    "# 주소 목록 파일 넣어주기\n",
    "# data = pd.read_excel('~~~', usecols='컬럼 네임', name = ['컬럼명1', '컬럼명2'])\n",
    "data = '서울특별시 서대문구 연세로 50'"
   ]
  },
  {
   "cell_type": "code",
   "execution_count": 26,
   "metadata": {},
   "outputs": [],
   "source": [
    "geo_coordi = []\n",
    "add_urlenc = parse.quote(data) # 주소를 아스키코드에 맞게 인코딩해주는 작업\n",
    "url = api_url + add_urlenc"
   ]
  },
  {
   "cell_type": "code",
   "execution_count": 27,
   "metadata": {},
   "outputs": [],
   "source": [
    "request = Request(url)\n",
    "request.add_header('X-NCP-APIGW-API-KEY-ID', client_id)\n",
    "request.add_header('X-NCP-APIGW-API-KEY', client_pw)"
   ]
  },
  {
   "cell_type": "code",
   "execution_count": 32,
   "metadata": {},
   "outputs": [
    {
     "name": "stdout",
     "output_type": "stream",
     "text": [
      "Success!\n"
     ]
    }
   ],
   "source": [
    "try:\n",
    "    response = urlopen(request)\n",
    "except HTTPError as e:\n",
    "    print('HTTP Error!')\n",
    "    latitude = None\n",
    "    longitude = None\n",
    "else:\n",
    "    rescode = response.getcode() # 정상이면 200 리턴\n",
    "    if rescode == 200:\n",
    "        response_body = response.read().decode('utf-8')\n",
    "        response_body = json.loads(response_body)\n",
    "        if 'addresses' in response_body:\n",
    "            latitude = response_body['addresses'][0]['y']\n",
    "            longitude = response_body['addresses'][0]['x']\n",
    "            print('Success!')\n",
    "        else:\n",
    "            print(\"'result' not exist!\")\n",
    "            latitude = None\n",
    "            longitude = None\n",
    "    else:\n",
    "        print('Response error code : %d' % rescode)\n",
    "        latitude = None\n",
    "        longitude = None\n",
    "\n",
    "geo_coordi.append([data, latitude, longitude])"
   ]
  },
  {
   "cell_type": "code",
   "execution_count": 33,
   "metadata": {},
   "outputs": [
    {
     "data": {
      "text/plain": [
       "[['서울특별시 서대문구 연세로 50', '37.5671131', None],\n",
       " ['서울특별시 서대문구 연세로 50', '37.5671131', '126.9390292']]"
      ]
     },
     "execution_count": 33,
     "metadata": {},
     "output_type": "execute_result"
    }
   ],
   "source": [
    "geo_coordi"
   ]
  },
  {
   "cell_type": "code",
   "execution_count": null,
   "metadata": {},
   "outputs": [],
   "source": []
  }
 ],
 "metadata": {
  "kernelspec": {
   "display_name": "Python 3",
   "language": "python",
   "name": "python3"
  },
  "language_info": {
   "codemirror_mode": {
    "name": "ipython",
    "version": 3
   },
   "file_extension": ".py",
   "mimetype": "text/x-python",
   "name": "python",
   "nbconvert_exporter": "python",
   "pygments_lexer": "ipython3",
   "version": "3.7.4"
  }
 },
 "nbformat": 4,
 "nbformat_minor": 2
}
